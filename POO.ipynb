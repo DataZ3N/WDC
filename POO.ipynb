{
 "cells": [
  {
   "cell_type": "code",
   "execution_count": 82,
   "metadata": {},
   "outputs": [],
   "source": [
    "import numpy as np"
   ]
  },
  {
   "cell_type": "code",
   "execution_count": 83,
   "metadata": {},
   "outputs": [],
   "source": [
    "# création de la classe dataAnalyst\n",
    "class dataAnalyst:\n",
    "    def __init__(self, nom, prenom, age, sexe, formationPrecedante, motivation, progression):\n",
    "        self.nom = nom\n",
    "        self.prenom = prenom\n",
    "        self.age = age\n",
    "        self.sexe = sexe\n",
    "        self.fomrationPrecedante = formationPrecedante\n",
    "        self.motivation = 100\n",
    "        self.progression = 0\n",
    "        \n",
    "    def suivreFormation(self):\n",
    "        self.motivation -= np.random.randint(5, 25) \n",
    "        self.progression += np.random.randint(20, 30)\n",
    "        \n",
    "    def bosserPlus(self):\n",
    "        self.motivation += np.random.randint(10, 30)\n",
    "        self.progression += np.random.randint(10, 30)\n",
    "    \n",
    "    def echouer(self):\n",
    "        self.motivation -= np.random.randint(20, 40)\n",
    "        self.progression += np.random.randint(20, 40)\n",
    "    \n",
    "    def reussir(self):\n",
    "        self.motivation += np.random.randint(20, 40)\n",
    "        self.progression += np.random.randint(10, 20)\n",
    "        "
   ]
  },
  {
   "cell_type": "code",
   "execution_count": 84,
   "metadata": {},
   "outputs": [],
   "source": [
    "\n",
    "def GeekTraining(individu):    \n",
    "    #while individu.motivation > 0 or individu.progression < 100:\n",
    "        for i in range(1, 10):\n",
    "            print(\"Tour {}\".format(i))\n",
    "            diceroll = np.random.randint(1,4)\n",
    "            if diceroll == 1:\n",
    "                print(\"La méthode suivreFormation() à été utilisée.\")\n",
    "                dataAnalyst.suivreFormation(individu)\n",
    "                print(\"motivation vaut maintenant {}\".format(individu.motivation))\n",
    "                print(\"progression vaut maintenant {}\".format(individu.progression))\n",
    "                \n",
    "            elif diceroll == 2:\n",
    "                print(\"La méthode bosserPlus() à été utilisée.\")\n",
    "                dataAnalyst.bosserPlus(individu)\n",
    "                print(\"motivation vaut maintenant {}\".format(individu.motivation))\n",
    "                print(\"progression vaut maintenant {}\".format(individu.progression))\n",
    "                \n",
    "            elif diceroll == 3:\n",
    "                print(\"La méthode echouer() à été utilisée.\")\n",
    "                dataAnalyst.echouer(individu)\n",
    "                print(\"motivation vaut maintenant {}\".format(individu.motivation))\n",
    "                print(\"progression vaut maintenant {}\".format(individu.progression))\n",
    "            \n",
    "            elif diceroll == 4:\n",
    "                print(\"La méthode reussir() à été utilisée.\")\n",
    "                dataAnalyst.reussir(individu)\n",
    "                print(\"motivation vaut maintenant {}\".format(individu.motivation))\n",
    "                print(\"progression vaut maintenant {}\".format(individu.progression))\n",
    "            \n",
    "            if individu.motivation <= 0:\n",
    "                print('BRAVO TU AS GAGNE !!!')\n",
    "                break\n",
    "                \n",
    "            \n",
    "            elif individu.progression >= 100:\n",
    "                print('BRAVO TU AS APPRIS !!!')\n",
    "                break\n",
    "                 \n",
    "        \n"
   ]
  },
  {
   "cell_type": "code",
   "execution_count": 85,
   "metadata": {},
   "outputs": [],
   "source": [
    "maestro = dataAnalyst(\"Kimball\",\"Ralph\", 30, \"Homme\", \"Wild\", 100, 0)"
   ]
  },
  {
   "cell_type": "code",
   "execution_count": 86,
   "metadata": {},
   "outputs": [
    {
     "name": "stdout",
     "output_type": "stream",
     "text": [
      "Tour 1\n",
      "La méthode suivreFormation() à été utilisée.\n",
      "motivation vaut maintenant 82\n",
      "progression vaut maintenant 28\n",
      "Tour 2\n",
      "La méthode echouer() à été utilisée.\n",
      "motivation vaut maintenant 59\n",
      "progression vaut maintenant 49\n",
      "Tour 3\n",
      "La méthode suivreFormation() à été utilisée.\n",
      "motivation vaut maintenant 46\n",
      "progression vaut maintenant 72\n",
      "Tour 4\n",
      "La méthode suivreFormation() à été utilisée.\n",
      "motivation vaut maintenant 32\n",
      "progression vaut maintenant 92\n",
      "Tour 5\n",
      "La méthode echouer() à été utilisée.\n",
      "motivation vaut maintenant 8\n",
      "progression vaut maintenant 121\n",
      "BRAVO TU AS APPRIS !!!\n"
     ]
    }
   ],
   "source": [
    "GeekTraining(maestro)"
   ]
  },
  {
   "cell_type": "code",
   "execution_count": null,
   "metadata": {},
   "outputs": [],
   "source": []
  }
 ],
 "metadata": {
  "kernelspec": {
   "display_name": "Python 3",
   "language": "python",
   "name": "python3"
  },
  "language_info": {
   "codemirror_mode": {
    "name": "ipython",
    "version": 3
   },
   "file_extension": ".py",
   "mimetype": "text/x-python",
   "name": "python",
   "nbconvert_exporter": "python",
   "pygments_lexer": "ipython3",
   "version": "3.7.1"
  }
 },
 "nbformat": 4,
 "nbformat_minor": 2
}
