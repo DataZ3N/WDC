{
 "cells": [
  {
   "cell_type": "code",
   "execution_count": 98,
   "metadata": {},
   "outputs": [],
   "source": [
    "import pandas as pd\n",
    "import numpy as np\n",
    "import math\n",
    "from sklearn.decomposition import PCA\n",
    "from sklearn import decomposition\n",
    "import seaborn as sb\n",
    "import matplotlib.pyplot as plt"
   ]
  },
  {
   "cell_type": "code",
   "execution_count": 56,
   "metadata": {},
   "outputs": [],
   "source": [
    "df = pd.read_csv('pokemonquest.csv')\n",
    "df2 = pd.read_csv('pokemonquest.csv')"
   ]
  },
  {
   "cell_type": "code",
   "execution_count": 57,
   "metadata": {
    "scrolled": true
   },
   "outputs": [
    {
     "data": {
      "text/html": [
       "<div>\n",
       "<style scoped>\n",
       "    .dataframe tbody tr th:only-of-type {\n",
       "        vertical-align: middle;\n",
       "    }\n",
       "\n",
       "    .dataframe tbody tr th {\n",
       "        vertical-align: top;\n",
       "    }\n",
       "\n",
       "    .dataframe thead th {\n",
       "        text-align: right;\n",
       "    }\n",
       "</style>\n",
       "<table border=\"1\" class=\"dataframe\">\n",
       "  <thead>\n",
       "    <tr style=\"text-align: right;\">\n",
       "      <th></th>\n",
       "      <th>Nom</th>\n",
       "      <th>PV</th>\n",
       "      <th>Attaque</th>\n",
       "      <th>Défense</th>\n",
       "      <th>Att. Spé.</th>\n",
       "      <th>Déf. Spé.</th>\n",
       "      <th>Vitesse</th>\n",
       "      <th>Unnamed: 7</th>\n",
       "      <th>Unnamed: 8</th>\n",
       "    </tr>\n",
       "  </thead>\n",
       "  <tbody>\n",
       "    <tr>\n",
       "      <th>0</th>\n",
       "      <td>Bulbizarre</td>\n",
       "      <td>45.0</td>\n",
       "      <td>49.0</td>\n",
       "      <td>49.0</td>\n",
       "      <td>65.0</td>\n",
       "      <td>65.0</td>\n",
       "      <td>45.0</td>\n",
       "      <td>318</td>\n",
       "      <td>53</td>\n",
       "    </tr>\n",
       "    <tr>\n",
       "      <th>1</th>\n",
       "      <td>Herbizarre</td>\n",
       "      <td>60.0</td>\n",
       "      <td>62.0</td>\n",
       "      <td>63.0</td>\n",
       "      <td>80.0</td>\n",
       "      <td>80.0</td>\n",
       "      <td>60.0</td>\n",
       "      <td>405</td>\n",
       "      <td>67,5</td>\n",
       "    </tr>\n",
       "    <tr>\n",
       "      <th>2</th>\n",
       "      <td>Florizarre</td>\n",
       "      <td>80.0</td>\n",
       "      <td>82.0</td>\n",
       "      <td>83.0</td>\n",
       "      <td>100.0</td>\n",
       "      <td>100.0</td>\n",
       "      <td>80.0</td>\n",
       "      <td>525</td>\n",
       "      <td>87,5</td>\n",
       "    </tr>\n",
       "    <tr>\n",
       "      <th>3</th>\n",
       "      <td>Méga-Florizarre</td>\n",
       "      <td>80.0</td>\n",
       "      <td>100.0</td>\n",
       "      <td>123.0</td>\n",
       "      <td>122.0</td>\n",
       "      <td>120.0</td>\n",
       "      <td>80.0</td>\n",
       "      <td>625</td>\n",
       "      <td>104,17</td>\n",
       "    </tr>\n",
       "    <tr>\n",
       "      <th>4</th>\n",
       "      <td>Salamèche</td>\n",
       "      <td>39.0</td>\n",
       "      <td>52.0</td>\n",
       "      <td>43.0</td>\n",
       "      <td>NaN</td>\n",
       "      <td>50.0</td>\n",
       "      <td>65.0</td>\n",
       "      <td>309</td>\n",
       "      <td>51,5</td>\n",
       "    </tr>\n",
       "  </tbody>\n",
       "</table>\n",
       "</div>"
      ],
      "text/plain": [
       "               Nom    PV  Attaque  Défense  Att. Spé.  Déf. Spé.  Vitesse  \\\n",
       "0       Bulbizarre  45.0     49.0     49.0       65.0       65.0     45.0   \n",
       "1       Herbizarre  60.0     62.0     63.0       80.0       80.0     60.0   \n",
       "2       Florizarre  80.0     82.0     83.0      100.0      100.0     80.0   \n",
       "3  Méga-Florizarre  80.0    100.0    123.0      122.0      120.0     80.0   \n",
       "4        Salamèche  39.0     52.0     43.0        NaN       50.0     65.0   \n",
       "\n",
       "  Unnamed: 7 Unnamed: 8  \n",
       "0        318         53  \n",
       "1        405       67,5  \n",
       "2        525       87,5  \n",
       "3        625     104,17  \n",
       "4        309       51,5  "
      ]
     },
     "execution_count": 57,
     "metadata": {},
     "output_type": "execute_result"
    }
   ],
   "source": [
    "df.head()"
   ]
  },
  {
   "cell_type": "code",
   "execution_count": 58,
   "metadata": {},
   "outputs": [
    {
     "data": {
      "text/plain": [
       "Index(['nom', 'pv', 'att', 'def', 'att_spe', 'def_spe', 'vitesse', 'tot',\n",
       "       'moy'],\n",
       "      dtype='object')"
      ]
     },
     "execution_count": 58,
     "metadata": {},
     "output_type": "execute_result"
    }
   ],
   "source": [
    "df.columns = ['nom','pv','att','def','att_spe','def_spe','vitesse','tot','moy']\n",
    "df.columns"
   ]
  },
  {
   "cell_type": "code",
   "execution_count": 59,
   "metadata": {
    "scrolled": true
   },
   "outputs": [],
   "source": [
    "# Remplacement de tous les charactères non numériques\n",
    "df[\"tot\"] = df[\"tot\"].str.replace(r\"[a-zA-Z]\",'')\n",
    "df[\"moy\"] = df[\"moy\"].str.replace(r\"[a-zA-Z]\",'')\n",
    "df[\"moy\"] = df[\"moy\"].str.replace(r\",\",'.')\n",
    "df[\"moy\"] = df[\"moy\"].str.replace(r\";\",'.')"
   ]
  },
  {
   "cell_type": "code",
   "execution_count": 60,
   "metadata": {},
   "outputs": [],
   "source": [
    "# Transformation des colonnes en float\n",
    "df[\"tot\"]= pd.to_numeric(df[\"tot\"], downcast ='float')"
   ]
  },
  {
   "cell_type": "code",
   "execution_count": 61,
   "metadata": {},
   "outputs": [],
   "source": [
    "df[\"moy\"]= pd.to_numeric(df[\"moy\"], downcast ='float')\n"
   ]
  },
  {
   "cell_type": "code",
   "execution_count": 62,
   "metadata": {},
   "outputs": [
    {
     "data": {
      "text/html": [
       "<div>\n",
       "<style scoped>\n",
       "    .dataframe tbody tr th:only-of-type {\n",
       "        vertical-align: middle;\n",
       "    }\n",
       "\n",
       "    .dataframe tbody tr th {\n",
       "        vertical-align: top;\n",
       "    }\n",
       "\n",
       "    .dataframe thead th {\n",
       "        text-align: right;\n",
       "    }\n",
       "</style>\n",
       "<table border=\"1\" class=\"dataframe\">\n",
       "  <thead>\n",
       "    <tr style=\"text-align: right;\">\n",
       "      <th></th>\n",
       "      <th>nom</th>\n",
       "      <th>pv</th>\n",
       "      <th>att</th>\n",
       "      <th>def</th>\n",
       "      <th>att_spe</th>\n",
       "      <th>def_spe</th>\n",
       "      <th>vitesse</th>\n",
       "      <th>tot</th>\n",
       "      <th>moy</th>\n",
       "    </tr>\n",
       "  </thead>\n",
       "  <tbody>\n",
       "    <tr>\n",
       "      <th>0</th>\n",
       "      <td>Bulbizarre</td>\n",
       "      <td>45.0</td>\n",
       "      <td>49.0</td>\n",
       "      <td>49.0</td>\n",
       "      <td>65.0</td>\n",
       "      <td>65.0</td>\n",
       "      <td>45.0</td>\n",
       "      <td>318.0</td>\n",
       "      <td>53.000000</td>\n",
       "    </tr>\n",
       "    <tr>\n",
       "      <th>1</th>\n",
       "      <td>Herbizarre</td>\n",
       "      <td>60.0</td>\n",
       "      <td>62.0</td>\n",
       "      <td>63.0</td>\n",
       "      <td>80.0</td>\n",
       "      <td>80.0</td>\n",
       "      <td>60.0</td>\n",
       "      <td>405.0</td>\n",
       "      <td>67.500000</td>\n",
       "    </tr>\n",
       "    <tr>\n",
       "      <th>2</th>\n",
       "      <td>Florizarre</td>\n",
       "      <td>80.0</td>\n",
       "      <td>82.0</td>\n",
       "      <td>83.0</td>\n",
       "      <td>100.0</td>\n",
       "      <td>100.0</td>\n",
       "      <td>80.0</td>\n",
       "      <td>525.0</td>\n",
       "      <td>87.500000</td>\n",
       "    </tr>\n",
       "    <tr>\n",
       "      <th>3</th>\n",
       "      <td>Méga-Florizarre</td>\n",
       "      <td>80.0</td>\n",
       "      <td>100.0</td>\n",
       "      <td>123.0</td>\n",
       "      <td>122.0</td>\n",
       "      <td>120.0</td>\n",
       "      <td>80.0</td>\n",
       "      <td>625.0</td>\n",
       "      <td>104.169998</td>\n",
       "    </tr>\n",
       "    <tr>\n",
       "      <th>4</th>\n",
       "      <td>Salamèche</td>\n",
       "      <td>39.0</td>\n",
       "      <td>52.0</td>\n",
       "      <td>43.0</td>\n",
       "      <td>NaN</td>\n",
       "      <td>50.0</td>\n",
       "      <td>65.0</td>\n",
       "      <td>309.0</td>\n",
       "      <td>51.500000</td>\n",
       "    </tr>\n",
       "  </tbody>\n",
       "</table>\n",
       "</div>"
      ],
      "text/plain": [
       "               nom    pv    att    def  att_spe  def_spe  vitesse    tot  \\\n",
       "0       Bulbizarre  45.0   49.0   49.0     65.0     65.0     45.0  318.0   \n",
       "1       Herbizarre  60.0   62.0   63.0     80.0     80.0     60.0  405.0   \n",
       "2       Florizarre  80.0   82.0   83.0    100.0    100.0     80.0  525.0   \n",
       "3  Méga-Florizarre  80.0  100.0  123.0    122.0    120.0     80.0  625.0   \n",
       "4        Salamèche  39.0   52.0   43.0      NaN     50.0     65.0  309.0   \n",
       "\n",
       "          moy  \n",
       "0   53.000000  \n",
       "1   67.500000  \n",
       "2   87.500000  \n",
       "3  104.169998  \n",
       "4   51.500000  "
      ]
     },
     "execution_count": 62,
     "metadata": {},
     "output_type": "execute_result"
    }
   ],
   "source": [
    "df.head()"
   ]
  },
  {
   "cell_type": "code",
   "execution_count": 63,
   "metadata": {},
   "outputs": [],
   "source": [
    "# Colonne pv\n",
    "for index, row in df.iterrows():\n",
    "    val = row['pv']\n",
    "    if math.isnan(val):\n",
    "        df.loc[index, 'pv'] = ((row['tot']) - ((row['att'])+(row['def'])+(row['att_spe'])+(row['def_spe'])+(row['vitesse'])))\n"
   ]
  },
  {
   "cell_type": "code",
   "execution_count": 64,
   "metadata": {},
   "outputs": [],
   "source": [
    "# Colonne att\n",
    "for index, row in df.iterrows():\n",
    "    val = row['att']\n",
    "    if math.isnan(val):\n",
    "        df.loc[index, 'att'] = ((row['tot']) - ((row['pv'])+(row['def'])+(row['att_spe'])+(row['def_spe'])+(row['vitesse'])))\n"
   ]
  },
  {
   "cell_type": "code",
   "execution_count": 65,
   "metadata": {},
   "outputs": [],
   "source": [
    "# Colonne def\n",
    "for index, row in df.iterrows():\n",
    "    val = row['def']\n",
    "    if math.isnan(val):\n",
    "        df.loc[index, 'def'] = ((row['tot']) - ((row['pv'])+(row['att'])+(row['att_spe'])+(row['def_spe'])+(row['vitesse'])))\n"
   ]
  },
  {
   "cell_type": "code",
   "execution_count": 66,
   "metadata": {},
   "outputs": [],
   "source": [
    "# Colonne att_spe\n",
    "for index, row in df.iterrows():\n",
    "    val = row['att_spe']\n",
    "    if math.isnan(val):\n",
    "        df.loc[index, 'att_spe'] = ((row['tot']) - ((row['pv'])+(row['att'])+(row['def'])+(row['def_spe'])+(row['vitesse'])))\n"
   ]
  },
  {
   "cell_type": "code",
   "execution_count": 67,
   "metadata": {},
   "outputs": [],
   "source": [
    "# Colonne def_spe\n",
    "for index, row in df.iterrows():\n",
    "    val = row['def_spe']\n",
    "    if math.isnan(val):\n",
    "        df.loc[index, 'def_spe'] = ((row['tot']) - ((row['pv'])+(row['att'])+(row['def'])+(row['att_spe'])+(row['vitesse'])))\n"
   ]
  },
  {
   "cell_type": "code",
   "execution_count": 68,
   "metadata": {},
   "outputs": [],
   "source": [
    "# Colonne vitesse\n",
    "for index, row in df.iterrows():\n",
    "    val = row['vitesse']\n",
    "    if math.isnan(val):\n",
    "        df.loc[index, 'vitesse'] = ((row['tot']) - ((row['pv'])+(row['att'])+(row['def'])+(row['att_spe'])+(row['def_spe'])))\n"
   ]
  },
  {
   "cell_type": "code",
   "execution_count": 69,
   "metadata": {},
   "outputs": [
    {
     "data": {
      "text/plain": [
       "tot     95\n",
       "moy    103\n",
       "dtype: int64"
      ]
     },
     "execution_count": 69,
     "metadata": {},
     "output_type": "execute_result"
    }
   ],
   "source": [
    "# Vérification de l'absence de NaN dans les 6 premières colonnes\n",
    "test = df.isnull().sum(axis = 0)[(df.isnull().sum(axis = 0))!=0]\n",
    "test"
   ]
  },
  {
   "cell_type": "code",
   "execution_count": 70,
   "metadata": {},
   "outputs": [
    {
     "data": {
      "text/html": [
       "<div>\n",
       "<style scoped>\n",
       "    .dataframe tbody tr th:only-of-type {\n",
       "        vertical-align: middle;\n",
       "    }\n",
       "\n",
       "    .dataframe tbody tr th {\n",
       "        vertical-align: top;\n",
       "    }\n",
       "\n",
       "    .dataframe thead th {\n",
       "        text-align: right;\n",
       "    }\n",
       "</style>\n",
       "<table border=\"1\" class=\"dataframe\">\n",
       "  <thead>\n",
       "    <tr style=\"text-align: right;\">\n",
       "      <th></th>\n",
       "      <th>nom</th>\n",
       "      <th>pv</th>\n",
       "      <th>att</th>\n",
       "      <th>def</th>\n",
       "      <th>att_spe</th>\n",
       "      <th>def_spe</th>\n",
       "      <th>vitesse</th>\n",
       "    </tr>\n",
       "  </thead>\n",
       "  <tbody>\n",
       "    <tr>\n",
       "      <th>0</th>\n",
       "      <td>Bulbizarre</td>\n",
       "      <td>45.0</td>\n",
       "      <td>49.0</td>\n",
       "      <td>49.0</td>\n",
       "      <td>65.0</td>\n",
       "      <td>65.0</td>\n",
       "      <td>45.0</td>\n",
       "    </tr>\n",
       "    <tr>\n",
       "      <th>1</th>\n",
       "      <td>Herbizarre</td>\n",
       "      <td>60.0</td>\n",
       "      <td>62.0</td>\n",
       "      <td>63.0</td>\n",
       "      <td>80.0</td>\n",
       "      <td>80.0</td>\n",
       "      <td>60.0</td>\n",
       "    </tr>\n",
       "    <tr>\n",
       "      <th>2</th>\n",
       "      <td>Florizarre</td>\n",
       "      <td>80.0</td>\n",
       "      <td>82.0</td>\n",
       "      <td>83.0</td>\n",
       "      <td>100.0</td>\n",
       "      <td>100.0</td>\n",
       "      <td>80.0</td>\n",
       "    </tr>\n",
       "    <tr>\n",
       "      <th>3</th>\n",
       "      <td>Méga-Florizarre</td>\n",
       "      <td>80.0</td>\n",
       "      <td>100.0</td>\n",
       "      <td>123.0</td>\n",
       "      <td>122.0</td>\n",
       "      <td>120.0</td>\n",
       "      <td>80.0</td>\n",
       "    </tr>\n",
       "    <tr>\n",
       "      <th>4</th>\n",
       "      <td>Salamèche</td>\n",
       "      <td>39.0</td>\n",
       "      <td>52.0</td>\n",
       "      <td>43.0</td>\n",
       "      <td>60.0</td>\n",
       "      <td>50.0</td>\n",
       "      <td>65.0</td>\n",
       "    </tr>\n",
       "  </tbody>\n",
       "</table>\n",
       "</div>"
      ],
      "text/plain": [
       "               nom    pv    att    def  att_spe  def_spe  vitesse\n",
       "0       Bulbizarre  45.0   49.0   49.0     65.0     65.0     45.0\n",
       "1       Herbizarre  60.0   62.0   63.0     80.0     80.0     60.0\n",
       "2       Florizarre  80.0   82.0   83.0    100.0    100.0     80.0\n",
       "3  Méga-Florizarre  80.0  100.0  123.0    122.0    120.0     80.0\n",
       "4        Salamèche  39.0   52.0   43.0     60.0     50.0     65.0"
      ]
     },
     "execution_count": 70,
     "metadata": {},
     "output_type": "execute_result"
    }
   ],
   "source": [
    "# On drop les deux dernière colonnes\n",
    "df2 = df.drop(['tot', 'moy'], axis=1)\n",
    "df2.head()"
   ]
  },
  {
   "cell_type": "code",
   "execution_count": 71,
   "metadata": {},
   "outputs": [
    {
     "data": {
      "text/plain": [
       "Index(['nom', 'pv', 'att', 'def', 'att_spe', 'def_spe', 'vitesse'], dtype='object')"
      ]
     },
     "execution_count": 71,
     "metadata": {},
     "output_type": "execute_result"
    }
   ],
   "source": [
    "# Stockage des noms de colonnes dans un array\n",
    "names = df2.columns\n",
    "names"
   ]
  },
  {
   "cell_type": "code",
   "execution_count": 72,
   "metadata": {},
   "outputs": [
    {
     "data": {
      "text/html": [
       "<div>\n",
       "<style scoped>\n",
       "    .dataframe tbody tr th:only-of-type {\n",
       "        vertical-align: middle;\n",
       "    }\n",
       "\n",
       "    .dataframe tbody tr th {\n",
       "        vertical-align: top;\n",
       "    }\n",
       "\n",
       "    .dataframe thead th {\n",
       "        text-align: right;\n",
       "    }\n",
       "</style>\n",
       "<table border=\"1\" class=\"dataframe\">\n",
       "  <thead>\n",
       "    <tr style=\"text-align: right;\">\n",
       "      <th></th>\n",
       "      <th>pv</th>\n",
       "      <th>att</th>\n",
       "      <th>def</th>\n",
       "      <th>att_spe</th>\n",
       "      <th>def_spe</th>\n",
       "      <th>vitesse</th>\n",
       "    </tr>\n",
       "  </thead>\n",
       "  <tbody>\n",
       "    <tr>\n",
       "      <th>0</th>\n",
       "      <td>45.0</td>\n",
       "      <td>49.0</td>\n",
       "      <td>49.0</td>\n",
       "      <td>65.0</td>\n",
       "      <td>65.0</td>\n",
       "      <td>45.0</td>\n",
       "    </tr>\n",
       "    <tr>\n",
       "      <th>1</th>\n",
       "      <td>60.0</td>\n",
       "      <td>62.0</td>\n",
       "      <td>63.0</td>\n",
       "      <td>80.0</td>\n",
       "      <td>80.0</td>\n",
       "      <td>60.0</td>\n",
       "    </tr>\n",
       "    <tr>\n",
       "      <th>2</th>\n",
       "      <td>80.0</td>\n",
       "      <td>82.0</td>\n",
       "      <td>83.0</td>\n",
       "      <td>100.0</td>\n",
       "      <td>100.0</td>\n",
       "      <td>80.0</td>\n",
       "    </tr>\n",
       "    <tr>\n",
       "      <th>3</th>\n",
       "      <td>80.0</td>\n",
       "      <td>100.0</td>\n",
       "      <td>123.0</td>\n",
       "      <td>122.0</td>\n",
       "      <td>120.0</td>\n",
       "      <td>80.0</td>\n",
       "    </tr>\n",
       "    <tr>\n",
       "      <th>4</th>\n",
       "      <td>39.0</td>\n",
       "      <td>52.0</td>\n",
       "      <td>43.0</td>\n",
       "      <td>60.0</td>\n",
       "      <td>50.0</td>\n",
       "      <td>65.0</td>\n",
       "    </tr>\n",
       "  </tbody>\n",
       "</table>\n",
       "</div>"
      ],
      "text/plain": [
       "     pv    att    def  att_spe  def_spe  vitesse\n",
       "0  45.0   49.0   49.0     65.0     65.0     45.0\n",
       "1  60.0   62.0   63.0     80.0     80.0     60.0\n",
       "2  80.0   82.0   83.0    100.0    100.0     80.0\n",
       "3  80.0  100.0  123.0    122.0    120.0     80.0\n",
       "4  39.0   52.0   43.0     60.0     50.0     65.0"
      ]
     },
     "execution_count": 72,
     "metadata": {},
     "output_type": "execute_result"
    }
   ],
   "source": [
    "df2= df2.drop(['nom'], axis=1)\n",
    "df2.head()"
   ]
  },
  {
   "cell_type": "code",
   "execution_count": 74,
   "metadata": {},
   "outputs": [
    {
     "data": {
      "text/plain": [
       "array([[ 45.,  49.,  49.,  65.,  65.,  45.],\n",
       "       [ 60.,  62.,  63.,  80.,  80.,  60.],\n",
       "       [ 80.,  82.,  83., 100., 100.,  80.],\n",
       "       ...,\n",
       "       [ 88., 112.,  75., 102.,  80., 143.],\n",
       "       [ 46.,  65.,  65.,  55.,  35.,  34.],\n",
       "       [135., 143., 143.,  80.,  65.,  34.]])"
      ]
     },
     "execution_count": 74,
     "metadata": {},
     "output_type": "execute_result"
    }
   ],
   "source": [
    "# Stockage des valeurs dans un autre array\n",
    "X = df2.values\n",
    "X"
   ]
  },
  {
   "cell_type": "markdown",
   "metadata": {},
   "source": [
    "\"\"\"\n",
    "from sklearn import preprocessing\n",
    "std_scale = preprocessing.StandardScaler().fit(X)\n",
    "X_scaled = std_scale.transform(X)\n",
    "\"\"\"\n",
    "La methode preprocessing permet de remodeler les données afin de les traitrer sur une échelle similaire. C'est pertinent par exemple quand nous avons mètres et des km.\n",
    "Nous n'avons pas besoin car nos données sont deja à une échelle similaire. "
   ]
  },
  {
   "cell_type": "markdown",
   "metadata": {},
   "source": [
    "fit_transform() regroupe les deux méthodes suivantes:\n",
    "-fit\n",
    "calcule la moyenne et l'écart type pour adapter le modele aux données\n",
    "-transform\n",
    "applique le modele à la donnée pour la transformer\n"
   ]
  },
  {
   "cell_type": "code",
   "execution_count": 75,
   "metadata": {},
   "outputs": [
    {
     "data": {
      "text/plain": [
       "PCA(copy=True, iterated_power='auto', n_components=None, random_state=None,\n",
       "  svd_solver='auto', tol=0.0, whiten=False)"
      ]
     },
     "execution_count": 75,
     "metadata": {},
     "output_type": "execute_result"
    }
   ],
   "source": [
    "# Création d'un objet pca\n",
    "pca = decomposition.PCA()\n",
    "pca"
   ]
  },
  {
   "cell_type": "code",
   "execution_count": 78,
   "metadata": {},
   "outputs": [
    {
     "data": {
      "text/plain": [
       "array([[-47.24779855,  -5.21056649,  19.86891604,  -0.43095945,\n",
       "        -12.3890417 ,  -9.70284185],\n",
       "       [-12.56335654,  -5.96610564,  21.63058429,   0.24460274,\n",
       "         -5.42592379,  -6.64118004],\n",
       "       [ 35.51012914,  -5.86778265,  22.0968405 ,   0.68482768,\n",
       "          3.25447945,  -3.01217004],\n",
       "       ...,\n",
       "       [ 62.72871249, -50.56603514, -20.2781257 , -15.8559934 ,\n",
       "         22.95248435,  11.30449945],\n",
       "       [-53.17794829,  11.83890927,  -9.62003634,   1.35806217,\n",
       "        -26.24240062,   5.89953733],\n",
       "       [ 67.50240706,  70.85945841, -43.13195786,  45.21267506,\n",
       "        -11.88255577,  23.62932899]])"
      ]
     },
     "execution_count": 78,
     "metadata": {},
     "output_type": "execute_result"
    }
   ],
   "source": [
    "ACP = pca.fit_transform(X)\n",
    "ACP\n",
    "#std_scale = preprocessing.StandardScaler().fit(X)\n",
    "#X_scaled = std_Scale.transform(X)"
   ]
  },
  {
   "cell_type": "code",
   "execution_count": 77,
   "metadata": {},
   "outputs": [
    {
     "data": {
      "text/plain": [
       "array([0.45427375, 0.19362961, 0.13723484, 0.09897258, 0.07281017,\n",
       "       0.04307906])"
      ]
     },
     "execution_count": 77,
     "metadata": {},
     "output_type": "execute_result"
    }
   ],
   "source": [
    "pca.explained_variance_ratio_\n",
    "# On peut voir qu'il faut trois composantes principales\n",
    "# pour expliquer au moins 70% de variance"
   ]
  },
  {
   "cell_type": "code",
   "execution_count": 82,
   "metadata": {},
   "outputs": [
    {
     "data": {
      "text/html": [
       "<div>\n",
       "<style scoped>\n",
       "    .dataframe tbody tr th:only-of-type {\n",
       "        vertical-align: middle;\n",
       "    }\n",
       "\n",
       "    .dataframe tbody tr th {\n",
       "        vertical-align: top;\n",
       "    }\n",
       "\n",
       "    .dataframe thead th {\n",
       "        text-align: right;\n",
       "    }\n",
       "</style>\n",
       "<table border=\"1\" class=\"dataframe\">\n",
       "  <thead>\n",
       "    <tr style=\"text-align: right;\">\n",
       "      <th></th>\n",
       "      <th>pv</th>\n",
       "      <th>att</th>\n",
       "      <th>def</th>\n",
       "      <th>att_spe</th>\n",
       "      <th>def_spe</th>\n",
       "      <th>vitesse</th>\n",
       "    </tr>\n",
       "  </thead>\n",
       "  <tbody>\n",
       "    <tr>\n",
       "      <th>0</th>\n",
       "      <td>0.312895</td>\n",
       "      <td>0.494564</td>\n",
       "      <td>0.381544</td>\n",
       "      <td>0.511775</td>\n",
       "      <td>0.390062</td>\n",
       "      <td>0.312834</td>\n",
       "    </tr>\n",
       "    <tr>\n",
       "      <th>1</th>\n",
       "      <td>0.049624</td>\n",
       "      <td>0.076524</td>\n",
       "      <td>0.676233</td>\n",
       "      <td>-0.381388</td>\n",
       "      <td>0.180789</td>\n",
       "      <td>-0.596866</td>\n",
       "    </tr>\n",
       "    <tr>\n",
       "      <th>2</th>\n",
       "      <td>-0.064545</td>\n",
       "      <td>-0.720447</td>\n",
       "      <td>0.028917</td>\n",
       "      <td>0.403298</td>\n",
       "      <td>0.536315</td>\n",
       "      <td>-0.160225</td>\n",
       "    </tr>\n",
       "    <tr>\n",
       "      <th>3</th>\n",
       "      <td>0.801875</td>\n",
       "      <td>0.008525</td>\n",
       "      <td>-0.362444</td>\n",
       "      <td>0.120213</td>\n",
       "      <td>-0.097065</td>\n",
       "      <td>-0.449093</td>\n",
       "    </tr>\n",
       "    <tr>\n",
       "      <th>4</th>\n",
       "      <td>0.414971</td>\n",
       "      <td>-0.218938</td>\n",
       "      <td>-0.014940</td>\n",
       "      <td>-0.622959</td>\n",
       "      <td>0.374796</td>\n",
       "      <td>0.501090</td>\n",
       "    </tr>\n",
       "  </tbody>\n",
       "</table>\n",
       "</div>"
      ],
      "text/plain": [
       "         pv       att       def   att_spe   def_spe   vitesse\n",
       "0  0.312895  0.494564  0.381544  0.511775  0.390062  0.312834\n",
       "1  0.049624  0.076524  0.676233 -0.381388  0.180789 -0.596866\n",
       "2 -0.064545 -0.720447  0.028917  0.403298  0.536315 -0.160225\n",
       "3  0.801875  0.008525 -0.362444  0.120213 -0.097065 -0.449093\n",
       "4  0.414971 -0.218938 -0.014940 -0.622959  0.374796  0.501090"
      ]
     },
     "execution_count": 82,
     "metadata": {},
     "output_type": "execute_result"
    }
   ],
   "source": [
    "# Création d'un dataframe\n",
    "df_fin = pd.DataFrame(pca.components_, columns = df2.columns)\n",
    "df_fin.head()"
   ]
  },
  {
   "cell_type": "code",
   "execution_count": 87,
   "metadata": {
    "scrolled": true
   },
   "outputs": [
    {
     "data": {
      "text/plain": [
       "<matplotlib.axes._subplots.AxesSubplot at 0x1093d0fd0>"
      ]
     },
     "execution_count": 87,
     "metadata": {},
     "output_type": "execute_result"
    },
    {
     "data": {
      "image/png": "[encoded data removed]",
      "text/plain": [
       "<Figure size 432x288 with 2 Axes>"
      ]
     },
     "metadata": {
      "needs_background": "light"
     },
     "output_type": "display_data"
    }
   ],
   "source": [
    "# On utilise seaborn afin de visualiser clairement les corrélation \n",
    "# entre composantes principales et colonnes\n",
    "sb.heatmap(df_fin)"
   ]
  },
  {
   "cell_type": "code",
   "execution_count": 108,
   "metadata": {},
   "outputs": [
    {
     "data": {
      "text/plain": [
       "[<matplotlib.lines.Line2D at 0x1a1f274dd8>]"
      ]
     },
     "execution_count": 108,
     "metadata": {},
     "output_type": "execute_result"
    },
    {
     "data": {
      "image/png": "[encoded data removed]",
      "text/plain": [
       "<Figure size 360x360 with 1 Axes>"
      ]
     },
     "metadata": {
      "needs_background": "light"
     },
     "output_type": "display_data"
    }
   ],
   "source": [
    "# BONUS \n",
    "# Autre visualisation avec un cercle de corrélation\n",
    "fig = plt.figure(figsize=(5,5))\n",
    "\n",
    "for i,(x,y) in enumerate(zip(pca.components_[0,:],pca.components_[1,:])):\n",
    "    plt.plot([0,x],[0,y],color='k')\n",
    "    plt.text(x,y,df_fin.columns[i])\n",
    "\n",
    "plt.plot([0,0], [-0.7,0.7], color='purple', ls='--')"
   ]
  }
 ],
 "metadata": {
  "kernelspec": {
   "display_name": "Python 3",
   "language": "python",
   "name": "python3"
  },
  "language_info": {
   "codemirror_mode": {
    "name": "ipython",
    "version": 3
   },
   "file_extension": ".py",
   "mimetype": "text/x-python",
   "name": "python",
   "nbconvert_exporter": "python",
   "pygments_lexer": "ipython3",
   "version": "3.7.1"
  }
 },
 "nbformat": 4,
 "nbformat_minor": 2
}
